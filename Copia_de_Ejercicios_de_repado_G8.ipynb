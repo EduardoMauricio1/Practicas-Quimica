{
  "nbformat": 4,
  "nbformat_minor": 0,
  "metadata": {
    "colab": {
      "provenance": [],
      "include_colab_link": true
    },
    "kernelspec": {
      "name": "python3",
      "display_name": "Python 3"
    },
    "language_info": {
      "name": "python"
    }
  },
  "cells": [
    {
      "cell_type": "markdown",
      "metadata": {
        "id": "view-in-github",
        "colab_type": "text"
      },
      "source": [
        "<a href=\"https://colab.research.google.com/github/EduardoMauricio1/Practicas-Quimica/blob/main/Copia_de_Ejercicios_de_repado_G8.ipynb\" target=\"_parent\"><img src=\"https://colab.research.google.com/assets/colab-badge.svg\" alt=\"Open In Colab\"/></a>"
      ]
    },
    {
      "cell_type": "markdown",
      "source": [
        "# 1. Crea una lista de 10 números e imprime los valores negativos en otra lista"
      ],
      "metadata": {
        "id": "_iQKUUQI7NYI"
      }
    },
    {
      "cell_type": "code",
      "source": [
        "type([1,2,3,4,5,6,7,8,9,10])"
      ],
      "metadata": {
        "colab": {
          "base_uri": "https://localhost:8080/"
        },
        "id": "zenEt648ctqc",
        "outputId": "5ef506e3-8a14-4825-857a-12d40813de29"
      },
      "execution_count": 2,
      "outputs": [
        {
          "output_type": "execute_result",
          "data": {
            "text/plain": [
              "list"
            ]
          },
          "metadata": {},
          "execution_count": 2
        }
      ]
    },
    {
      "cell_type": "code",
      "source": [
        "[1,2,3,4,5,6,7,8,9,10]"
      ],
      "metadata": {
        "colab": {
          "base_uri": "https://localhost:8080/"
        },
        "id": "NPKwxXUddKMx",
        "outputId": "2b22cfa5-84b6-4a68-d844-84eb88966564"
      },
      "execution_count": 4,
      "outputs": [
        {
          "output_type": "execute_result",
          "data": {
            "text/plain": [
              "[1, 2, 3, 4, 5, 6, 7, 8, 9, 10]"
            ]
          },
          "metadata": {},
          "execution_count": 4
        }
      ]
    },
    {
      "cell_type": "code",
      "source": [
        "import numpy as np"
      ],
      "metadata": {
        "id": "AFSoqgZAdZvi"
      },
      "execution_count": 3,
      "outputs": []
    },
    {
      "cell_type": "code",
      "source": [
        "numeros = np.random.randint(1,20,size=10)\n"
      ],
      "metadata": {
        "id": "s84aHeUPdslR"
      },
      "execution_count": 28,
      "outputs": []
    },
    {
      "cell_type": "code",
      "source": [
        "len(numeros)"
      ],
      "metadata": {
        "colab": {
          "base_uri": "https://localhost:8080/"
        },
        "id": "L0F_YOhueeza",
        "outputId": "fb7be322-73d0-492f-a6f0-7acaab059a60"
      },
      "execution_count": 24,
      "outputs": [
        {
          "output_type": "execute_result",
          "data": {
            "text/plain": [
              "10"
            ]
          },
          "metadata": {},
          "execution_count": 24
        }
      ]
    },
    {
      "cell_type": "code",
      "source": [
        "numeros"
      ],
      "metadata": {
        "colab": {
          "base_uri": "https://localhost:8080/"
        },
        "id": "I1Be8C5-fhQx",
        "outputId": "730ed466-8ded-4088-da35-cfb4d7dac04c"
      },
      "execution_count": 29,
      "outputs": [
        {
          "output_type": "execute_result",
          "data": {
            "text/plain": [
              "array([10, 19, 15, 11,  1,  1, 13,  4,  5, 18])"
            ]
          },
          "metadata": {},
          "execution_count": 29
        }
      ]
    },
    {
      "cell_type": "code",
      "source": [
        "# [Lo que quiero | Como lo voy a generar]\n",
        "numeros_negativos = [x*-1 for x in numeros]"
      ],
      "metadata": {
        "id": "dkm4aBymf3aV"
      },
      "execution_count": 41,
      "outputs": []
    },
    {
      "cell_type": "code",
      "source": [
        "numeros_negativos"
      ],
      "metadata": {
        "colab": {
          "base_uri": "https://localhost:8080/"
        },
        "id": "r-zRvzc3gN7p",
        "outputId": "27ffba0d-f388-4877-cbd6-34ea7d448406"
      },
      "execution_count": 42,
      "outputs": [
        {
          "output_type": "execute_result",
          "data": {
            "text/plain": [
              "[-10, -19, -15, -11, -1, -1, -13, -4, -5, -18]"
            ]
          },
          "metadata": {},
          "execution_count": 42
        }
      ]
    },
    {
      "cell_type": "markdown",
      "source": [
        "# 2. Escribe una matriz de 3x3 con números float distintos"
      ],
      "metadata": {
        "id": "g-4ebg569duT"
      }
    },
    {
      "cell_type": "code",
      "source": [
        "matriz = [[1.1,2.2,3.3],[4.4,5.5,6.6],[7.7,8.8,9.9]]"
      ],
      "metadata": {
        "id": "kdKoCPwOe9XC"
      },
      "execution_count": 52,
      "outputs": []
    },
    {
      "cell_type": "code",
      "source": [
        "type[[1.1,2.2,3.3],[4.4,5.5,6.6],[7.7,8.8,9.9]]\n"
      ],
      "metadata": {
        "colab": {
          "base_uri": "https://localhost:8080/"
        },
        "id": "h5wZ1JfmfkWy",
        "outputId": "75775917-c55f-4491-cd2d-bd7705cf8c7f"
      },
      "execution_count": 53,
      "outputs": [
        {
          "output_type": "execute_result",
          "data": {
            "text/plain": [
              "type[[1.1, 2.2, 3.3], [4.4, 5.5, 6.6], [7.7, 8.8, 9.9]]"
            ]
          },
          "metadata": {},
          "execution_count": 53
        }
      ]
    },
    {
      "cell_type": "code",
      "source": [
        "np.random.random_sample((3,3))"
      ],
      "metadata": {
        "colab": {
          "base_uri": "https://localhost:8080/"
        },
        "id": "XeI3lcthjR3Z",
        "outputId": "1e0a6133-22e1-40fe-d6ff-0ea211299221"
      },
      "execution_count": 54,
      "outputs": [
        {
          "output_type": "execute_result",
          "data": {
            "text/plain": [
              "array([[0.85073722, 0.56331865, 0.42245025],\n",
              "       [0.3781665 , 0.7160918 , 0.94136895],\n",
              "       [0.99558199, 0.50035474, 0.22984381]])"
            ]
          },
          "metadata": {},
          "execution_count": 54
        }
      ]
    },
    {
      "cell_type": "markdown",
      "source": [
        "# 3. Crea una matriz A de 3x3 y 2 matrices (B y C) de 3x1 con números enteros distintos y calcula AxB+C"
      ],
      "metadata": {
        "id": "OpfO_Yz1B4kC"
      }
    },
    {
      "cell_type": "code",
      "source": [
        "A = np.random.random_sample((3,3))"
      ],
      "metadata": {
        "id": "G8PP746Yjtpq"
      },
      "execution_count": 67,
      "outputs": []
    },
    {
      "cell_type": "code",
      "source": [
        "B = np.random.random_sample((3,1))"
      ],
      "metadata": {
        "id": "ZMbLeVa_jtiB"
      },
      "execution_count": 65,
      "outputs": []
    },
    {
      "cell_type": "code",
      "source": [
        "C = np.random.random_sample((3,1))"
      ],
      "metadata": {
        "id": "Vbzl1yEdjtcJ"
      },
      "execution_count": 66,
      "outputs": []
    },
    {
      "cell_type": "code",
      "source": [
        "A.shape, B.shape, C.shape"
      ],
      "metadata": {
        "colab": {
          "base_uri": "https://localhost:8080/"
        },
        "id": "sLGt8GTBkhd5",
        "outputId": "c393ad4c-dd71-4d22-f55c-a5d3d9f27ae6"
      },
      "execution_count": 72,
      "outputs": [
        {
          "output_type": "execute_result",
          "data": {
            "text/plain": [
              "((3, 3), (3, 1), (3, 1))"
            ]
          },
          "metadata": {},
          "execution_count": 72
        }
      ]
    },
    {
      "cell_type": "code",
      "source": [
        "#La siguiente no es una operacion entre matricez\n",
        "((A*B)+C)"
      ],
      "metadata": {
        "colab": {
          "base_uri": "https://localhost:8080/"
        },
        "id": "BFGnN7wMjtRR",
        "outputId": "5acc0b4d-2b13-44d7-87e2-89820920f201"
      },
      "execution_count": 76,
      "outputs": [
        {
          "output_type": "execute_result",
          "data": {
            "text/plain": [
              "array([[0.36010041, 0.35891646, 0.35929658],\n",
              "       [0.4170038 , 0.46437643, 0.41459446],\n",
              "       [1.01409001, 0.80725934, 0.79174329]])"
            ]
          },
          "metadata": {},
          "execution_count": 76
        }
      ]
    },
    {
      "cell_type": "code",
      "source": [
        "#La siguiente su es una operacion entre matricez\n",
        "A@B*C"
      ],
      "metadata": {
        "colab": {
          "base_uri": "https://localhost:8080/"
        },
        "id": "65MgLkxIk0Eh",
        "outputId": "e3d97df4-5542-45b0-99d5-a6a7fd1444ea"
      },
      "execution_count": 75,
      "outputs": [
        {
          "output_type": "execute_result",
          "data": {
            "text/plain": [
              "array([[0.20265292],\n",
              "       [0.05190784],\n",
              "       [0.24864312]])"
            ]
          },
          "metadata": {},
          "execution_count": 75
        }
      ]
    },
    {
      "cell_type": "markdown",
      "source": [
        "# 4. Disponer de números enteros desde el 1 hasta el 100 y cambiar los múltiplos de 3 por el string “m3”"
      ],
      "metadata": {
        "id": "O3zelPWUGdBI"
      }
    },
    {
      "cell_type": "code",
      "source": [
        "np.linspace(1,100,100)"
      ],
      "metadata": {
        "id": "0oek-g15n9Mp"
      },
      "execution_count": null,
      "outputs": []
    },
    {
      "cell_type": "code",
      "source": [
        "arreglo = np.arange(1,101)\n",
        "arreglo"
      ],
      "metadata": {
        "colab": {
          "base_uri": "https://localhost:8080/"
        },
        "id": "A_ta7gFBoUhR",
        "outputId": "de7e3c6b-80d2-4311-83e1-8b51ef9882fd"
      },
      "execution_count": 88,
      "outputs": [
        {
          "output_type": "execute_result",
          "data": {
            "text/plain": [
              "array([  1,   2,   3,   4,   5,   6,   7,   8,   9,  10,  11,  12,  13,\n",
              "        14,  15,  16,  17,  18,  19,  20,  21,  22,  23,  24,  25,  26,\n",
              "        27,  28,  29,  30,  31,  32,  33,  34,  35,  36,  37,  38,  39,\n",
              "        40,  41,  42,  43,  44,  45,  46,  47,  48,  49,  50,  51,  52,\n",
              "        53,  54,  55,  56,  57,  58,  59,  60,  61,  62,  63,  64,  65,\n",
              "        66,  67,  68,  69,  70,  71,  72,  73,  74,  75,  76,  77,  78,\n",
              "        79,  80,  81,  82,  83,  84,  85,  86,  87,  88,  89,  90,  91,\n",
              "        92,  93,  94,  95,  96,  97,  98,  99, 100])"
            ]
          },
          "metadata": {},
          "execution_count": 88
        }
      ]
    },
    {
      "cell_type": "code",
      "source": [
        "len(arreglo)"
      ],
      "metadata": {
        "colab": {
          "base_uri": "https://localhost:8080/"
        },
        "id": "Z2MUzWd_oZwh",
        "outputId": "30bffac2-a0dd-48a0-c0e1-7bda97016dc3"
      },
      "execution_count": 87,
      "outputs": [
        {
          "output_type": "execute_result",
          "data": {
            "text/plain": [
              "100"
            ]
          },
          "metadata": {},
          "execution_count": 87
        }
      ]
    },
    {
      "cell_type": "code",
      "source": [
        "arreglo%3"
      ],
      "metadata": {
        "colab": {
          "base_uri": "https://localhost:8080/"
        },
        "id": "kKtQi1yioc4Z",
        "outputId": "c27b44df-f23c-4078-9c44-5b779988ae74"
      },
      "execution_count": 90,
      "outputs": [
        {
          "output_type": "execute_result",
          "data": {
            "text/plain": [
              "array([1, 2, 0, 1, 2, 0, 1, 2, 0, 1, 2, 0, 1, 2, 0, 1, 2, 0, 1, 2, 0, 1,\n",
              "       2, 0, 1, 2, 0, 1, 2, 0, 1, 2, 0, 1, 2, 0, 1, 2, 0, 1, 2, 0, 1, 2,\n",
              "       0, 1, 2, 0, 1, 2, 0, 1, 2, 0, 1, 2, 0, 1, 2, 0, 1, 2, 0, 1, 2, 0,\n",
              "       1, 2, 0, 1, 2, 0, 1, 2, 0, 1, 2, 0, 1, 2, 0, 1, 2, 0, 1, 2, 0, 1,\n",
              "       2, 0, 1, 2, 0, 1, 2, 0, 1, 2, 0, 1])"
            ]
          },
          "metadata": {},
          "execution_count": 90
        }
      ]
    },
    {
      "cell_type": "code",
      "source": [
        "#Llamar un elemento\n",
        "arreglo[2]"
      ],
      "metadata": {
        "colab": {
          "base_uri": "https://localhost:8080/"
        },
        "id": "z-DzqdKcpOiR",
        "outputId": "80dfbd66-5766-4517-de58-793de8d7a07a"
      },
      "execution_count": 101,
      "outputs": [
        {
          "output_type": "execute_result",
          "data": {
            "text/plain": [
              "3"
            ]
          },
          "metadata": {},
          "execution_count": 101
        }
      ]
    },
    {
      "cell_type": "code",
      "source": [
        "if arreglo[2]%3==0:\n",
        "  print('hola')\n",
        "else:\n",
        "  print('adios')"
      ],
      "metadata": {
        "colab": {
          "base_uri": "https://localhost:8080/"
        },
        "id": "6b1mOGOHo6yR",
        "outputId": "6362f9bb-36c6-4d7e-b174-e00654f1cdde"
      },
      "execution_count": 104,
      "outputs": [
        {
          "output_type": "stream",
          "name": "stdout",
          "text": [
            "hola\n"
          ]
        }
      ]
    },
    {
      "cell_type": "code",
      "source": [
        "for valor in arreglo:\n",
        "  if arreglo[valor-1]%3==0:\n",
        "    print(valor)\n",
        "  else:\n",
        "    print('adios')"
      ],
      "metadata": {
        "id": "fex1LO5yqZ9p"
      },
      "execution_count": null,
      "outputs": []
    },
    {
      "cell_type": "code",
      "source": [
        "#Append\n",
        "lista_valores = []\n",
        "\n",
        "for valor in arreglo:\n",
        "  if arreglo[valor-1]%3==0:\n",
        "    lista_valores.append('m3')\n",
        "  else:\n",
        "    lista_valores.append(valor)"
      ],
      "metadata": {
        "id": "fnF0n2Kcq715"
      },
      "execution_count": 110,
      "outputs": []
    },
    {
      "cell_type": "code",
      "source": [
        "lista_valores"
      ],
      "metadata": {
        "id": "_FLUumGorahp"
      },
      "execution_count": null,
      "outputs": []
    },
    {
      "cell_type": "code",
      "source": [
        "[\"m3\" if i%3==0 else i for i in range(1,101)]"
      ],
      "metadata": {
        "id": "fhetpDsGr1Ih"
      },
      "execution_count": null,
      "outputs": []
    },
    {
      "cell_type": "markdown",
      "source": [
        "# 5. Recorriendo la matriz A del ejercicio 3, calcular la traza de la matriz transpuesta"
      ],
      "metadata": {
        "id": "vrWo89ffGqu9"
      }
    },
    {
      "cell_type": "code",
      "source": [
        "A"
      ],
      "metadata": {
        "colab": {
          "base_uri": "https://localhost:8080/"
        },
        "id": "hOncntPIsUPT",
        "outputId": "783fed24-d936-4d33-dcac-ccd367a937c0"
      },
      "execution_count": 113,
      "outputs": [
        {
          "output_type": "execute_result",
          "data": {
            "text/plain": [
              "array([[0.73309647, 0.71059661, 0.71782048],\n",
              "       [0.80025984, 0.90924905, 0.79471671],\n",
              "       [0.95297043, 0.42806848, 0.3886913 ]])"
            ]
          },
          "metadata": {},
          "execution_count": 113
        }
      ]
    },
    {
      "cell_type": "code",
      "source": [
        "A[0][0] + A[1][1] + A[2][2]"
      ],
      "metadata": {
        "colab": {
          "base_uri": "https://localhost:8080/"
        },
        "id": "db2fJIF3sWYJ",
        "outputId": "864c8fc1-625d-4a14-f9ab-4ad2716f3633"
      },
      "execution_count": 118,
      "outputs": [
        {
          "output_type": "execute_result",
          "data": {
            "text/plain": [
              "2.0310368247738655"
            ]
          },
          "metadata": {},
          "execution_count": 118
        }
      ]
    },
    {
      "cell_type": "code",
      "source": [
        "#Imprime la diagonal\n",
        "for indice, numero in enumerate(A):\n",
        "  print(numero[indice])"
      ],
      "metadata": {
        "colab": {
          "base_uri": "https://localhost:8080/"
        },
        "id": "nJt10pfssWVu",
        "outputId": "e59c38cb-ca70-4e11-d017-60e3b8b3d2fd"
      },
      "execution_count": 127,
      "outputs": [
        {
          "output_type": "stream",
          "name": "stdout",
          "text": [
            "0.7330964672991991\n",
            "0.909249054646862\n",
            "0.3886913028278044\n"
          ]
        }
      ]
    },
    {
      "cell_type": "code",
      "source": [
        "milista = []\n",
        "\n",
        "for indice, numero in enumerate(A):\n",
        "  milista.append(numero[indice])\n",
        "  #print(numero[indice])"
      ],
      "metadata": {
        "id": "pf6-nhxNsWSy"
      },
      "execution_count": null,
      "outputs": []
    },
    {
      "cell_type": "code",
      "source": [
        "sum(milista)"
      ],
      "metadata": {
        "colab": {
          "base_uri": "https://localhost:8080/"
        },
        "id": "rKsON5oCsWQB",
        "outputId": "d87af193-917d-4421-9985-0f93b091a10b"
      },
      "execution_count": 132,
      "outputs": [
        {
          "output_type": "execute_result",
          "data": {
            "text/plain": [
              "12"
            ]
          },
          "metadata": {},
          "execution_count": 132
        }
      ]
    },
    {
      "cell_type": "markdown",
      "source": [
        "# 6. Encuentra un autovalor y su autovector, para la matriz D. Puedes ayudarte multiplicando D con las matrices de 2x1 E, F y G\n",
        "\n",
        "Si:\n",
        "\n",
        "D = np.array([[3, 2], [1, 4]])\n",
        "\n",
        "E = np.array([[1,0]])\n",
        "\n",
        "F = np.array([[0,1]])\n",
        "\n",
        "G = np.array([[1,1]])"
      ],
      "metadata": {
        "id": "jWHAAPUfGrN1"
      }
    }
  ]
}