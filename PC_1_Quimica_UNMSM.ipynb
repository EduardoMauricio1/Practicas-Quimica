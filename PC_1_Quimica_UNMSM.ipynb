{
  "nbformat": 4,
  "nbformat_minor": 0,
  "metadata": {
    "colab": {
      "provenance": [],
      "toc_visible": true,
      "include_colab_link": true
    },
    "kernelspec": {
      "name": "python3",
      "display_name": "Python 3"
    },
    "language_info": {
      "name": "python"
    },
    "widgets": {
      "application/vnd.jupyter.widget-state+json": {
        "1967a6d9d7b84f179d51a80bc8659d29": {
          "model_module": "faerun-notebook",
          "model_name": "SmilesDrawerModel",
          "model_module_version": "^0.1.5",
          "state": {
            "_dom_classes": [],
            "_model_module": "faerun-notebook",
            "_model_module_version": "^0.1.5",
            "_model_name": "SmilesDrawerModel",
            "_view_count": null,
            "_view_module": "faerun-notebook",
            "_view_module_version": "^0.1.5",
            "_view_name": "SmilesDrawerView",
            "background": "#1e1e1e",
            "border": true,
            "layout": "IPY_MODEL_6548844ca6194bd8b2b3633975fcd648",
            "options": {
              "scale": 1.25
            },
            "output": "svg",
            "theme": "dark",
            "value": [
              [
                "Rxn",
                "C(C1C(C(C(C(O1)O)O)O)O)O.O=O>>C(=O)=O.O"
              ]
            ]
          }
        },
        "6548844ca6194bd8b2b3633975fcd648": {
          "model_module": "@jupyter-widgets/base",
          "model_name": "LayoutModel",
          "model_module_version": "1.2.0",
          "state": {
            "_model_module": "@jupyter-widgets/base",
            "_model_module_version": "1.2.0",
            "_model_name": "LayoutModel",
            "_view_count": null,
            "_view_module": "@jupyter-widgets/base",
            "_view_module_version": "1.2.0",
            "_view_name": "LayoutView",
            "align_content": null,
            "align_items": null,
            "align_self": null,
            "border": null,
            "bottom": null,
            "display": null,
            "flex": null,
            "flex_flow": null,
            "grid_area": null,
            "grid_auto_columns": null,
            "grid_auto_flow": null,
            "grid_auto_rows": null,
            "grid_column": null,
            "grid_gap": null,
            "grid_row": null,
            "grid_template_areas": null,
            "grid_template_columns": null,
            "grid_template_rows": null,
            "height": null,
            "justify_content": null,
            "justify_items": null,
            "left": null,
            "margin": null,
            "max_height": null,
            "max_width": null,
            "min_height": null,
            "min_width": null,
            "object_fit": null,
            "object_position": null,
            "order": null,
            "overflow": null,
            "overflow_x": null,
            "overflow_y": null,
            "padding": null,
            "right": null,
            "top": null,
            "visibility": null,
            "width": null
          }
        }
      }
    }
  },
  "cells": [
    {
      "cell_type": "markdown",
      "metadata": {
        "id": "view-in-github",
        "colab_type": "text"
      },
      "source": [
        "<a href=\"https://colab.research.google.com/github/EduardoMauricio1/Practicas-Quimica/blob/main/PC_1_Quimica_UNMSM.ipynb\" target=\"_parent\"><img src=\"https://colab.research.google.com/assets/colab-badge.svg\" alt=\"Open In Colab\"/></a>"
      ]
    },
    {
      "cell_type": "markdown",
      "source": [
        "$$\\Large \\textit{UNMSM | Química}$$\n",
        "$$\\large \\textbf{PC Nº1 | Materia y clasificación}$$\n",
        "\n",
        "_Profesor: Jesus Alvarado Huayhuaz_"
      ],
      "metadata": {
        "id": "sDJAjbaQOj4x"
      }
    },
    {
      "cell_type": "markdown",
      "source": [
        "Todas las indicaciones para la presentación de la práctica son explicadas en clase y brindadas en el material de enunciado de preguntas en formato PDF."
      ],
      "metadata": {
        "id": "_DsTzWLoP7Fy"
      }
    },
    {
      "cell_type": "markdown",
      "source": [
        "## Pregunta 1: Sobre el ABC de python (4 puntos)"
      ],
      "metadata": {
        "id": "obD7c2igOD6t"
      }
    },
    {
      "cell_type": "markdown",
      "source": [
        "Durante la semana de revisión del material \"ABC de python\", reflexiona sobre qué conceptos aprendiste con claridad y cuáles consideras los más desafiantes. A continuación resuelve los siguiente ejercicios, puedes ayudarte del material en http://bit.ly/3YKICSZ."
      ],
      "metadata": {
        "id": "emt93S7dL7QH"
      }
    },
    {
      "cell_type": "code",
      "source": [
        "# Imprime la versión de python que usas y las palabras reservadas de python para esa versión."
      ],
      "metadata": {
        "id": "6mJvqMN0LTU8"
      },
      "execution_count": null,
      "outputs": []
    },
    {
      "cell_type": "code",
      "source": [
        "!python --version\n",
        "help(\"keywords\")"
      ],
      "metadata": {
        "id": "YlwsokKHwCYJ",
        "colab": {
          "base_uri": "https://localhost:8080/"
        },
        "outputId": "461156b1-c02b-4827-f7a5-e324ee989dea"
      },
      "execution_count": 56,
      "outputs": [
        {
          "output_type": "stream",
          "name": "stdout",
          "text": [
            "Python 3.10.12\n",
            "\n",
            "Here is a list of the Python keywords.  Enter any keyword to get more help.\n",
            "\n",
            "False               class               from                or\n",
            "None                continue            global              pass\n",
            "True                def                 if                  raise\n",
            "and                 del                 import              return\n",
            "as                  elif                in                  try\n",
            "assert              else                is                  while\n",
            "async               except              lambda              with\n",
            "await               finally             nonlocal            yield\n",
            "break               for                 not                 \n",
            "\n"
          ]
        }
      ]
    },
    {
      "cell_type": "code",
      "source": [
        "# Guarda como variable la masa atómica de los elementos C, H y O, e imprime la masa molecular del etanol."
      ],
      "metadata": {
        "id": "MyhNX7JmLTSe"
      },
      "execution_count": null,
      "outputs": []
    },
    {
      "cell_type": "code",
      "source": [
        "#Las masas atomicas son:\n",
        "C = 12\n",
        "H = 1\n",
        "O = 16\n",
        "#La forma molecular del etanol es \"C2H6O\":\n",
        "masa_molecular_etanol = C*2 + H*6 + O*1\n",
        "#Impresion en pantalla:\n",
        "print(\"La masa molecular del etanol es:\",masa_molecular_etanol)"
      ],
      "metadata": {
        "colab": {
          "base_uri": "https://localhost:8080/"
        },
        "id": "9-PW2wmuwFrw",
        "outputId": "8dba3874-4fe5-498b-d20e-de1b4e3ce588"
      },
      "execution_count": 53,
      "outputs": [
        {
          "output_type": "stream",
          "name": "stdout",
          "text": [
            "La masa molecular del etanol es: 46\n"
          ]
        }
      ]
    },
    {
      "cell_type": "code",
      "source": [
        "# Crea una matriz de 3x3 e imprime la suma de los elementos en su diagonal (traza)."
      ],
      "metadata": {
        "id": "MxDzGypdLTXh"
      },
      "execution_count": null,
      "outputs": []
    },
    {
      "cell_type": "code",
      "source": [
        "#Ingresamos matriz 3x3:\n",
        "Matriz = [[1,2,3],[4,5,6],[7,8,9]]\n",
        "#Suma de elementos en diagonal:\n",
        "suma_diagonal = Matriz[0][0] + Matriz[1][1] + Matriz[2][2]\n",
        "#Impresion en pantalla:\n",
        "print(\"La suma en diagonal es:\", suma_diagonal)"
      ],
      "metadata": {
        "id": "57lEzsAc3OpQ",
        "colab": {
          "base_uri": "https://localhost:8080/"
        },
        "outputId": "8ba88fb1-7c76-4813-e328-4c7398ea9e88"
      },
      "execution_count": 52,
      "outputs": [
        {
          "output_type": "stream",
          "name": "stdout",
          "text": [
            "La suma en diagonal es: 15\n"
          ]
        }
      ]
    },
    {
      "cell_type": "code",
      "source": [
        "# Busca la temperatura de fusión en Celsius de 5 metales y guárdalos en una lista. Imprime las temperaturas en Kelvin"
      ],
      "metadata": {
        "id": "NCOnJ0FwgLLc"
      },
      "execution_count": null,
      "outputs": []
    },
    {
      "cell_type": "code",
      "source": [
        "#Temperatura de fusion de 5 metales:\n",
        "Plata = 960.5\n",
        "Oro = 1063\n",
        "Plomo = 327\n",
        "Zinc = 419.4\n",
        "Cobre = 1083\n",
        "#Lista en Celsius:\n",
        "Lista_Celsius = [Plata, Oro, Plomo, Zinc, Cobre]\n",
        "#Conversion a Kelvin: K = C + 273.15\n",
        "Plata_Kelvin = Plata + 273.15\n",
        "Oro_Kelvin = Oro + 273.15\n",
        "Plomo_Kelvin = Plomo + 273.15\n",
        "Zinc_Kelvin = Zinc + 273.15\n",
        "Cobre_Kelvin = Cobre + 273.15\n",
        "#Lista en Kelvin:\n",
        "Lista_Kelvin = [round(Plata_Kelvin, 1), round(Oro_Kelvin,0), round(Plomo_Kelvin,0), round(Zinc_Kelvin,1), round(Cobre_Kelvin,0)]\n",
        "#Impresion en pantalla:\n",
        "print(\"Lista en Celsius de la Plata, Oro, Plomo, Zinc y Cobre respectivamente:\", Lista_Celsius)\n",
        "print(\"Lista en Kelvin de la Plata, Oro, Plomo, Zinc y Cobre respectivamente:\", Lista_Kelvin)"
      ],
      "metadata": {
        "id": "uc0K8-is3PEQ",
        "colab": {
          "base_uri": "https://localhost:8080/"
        },
        "outputId": "f6aff61f-9e1f-4e89-de0e-01296534a485"
      },
      "execution_count": 54,
      "outputs": [
        {
          "output_type": "stream",
          "name": "stdout",
          "text": [
            "Lista en Celsius de la Plata, Oro, Plomo, Zinc y Cobre respectivamente: [960.5, 1063, 327, 419.4, 1083]\n",
            "Lista en Kelvin de la Plata, Oro, Plomo, Zinc y Cobre respectivamente: [1233.7, 1336.0, 600.0, 692.5, 1356.0]\n"
          ]
        }
      ]
    },
    {
      "cell_type": "markdown",
      "source": [
        "## Pregunta 2: Operaciones (4 puntos)"
      ],
      "metadata": {
        "id": "epzOadagLfPi"
      }
    },
    {
      "cell_type": "markdown",
      "source": [
        "Escribe un programa que lea repetidamente elementos químicos en español hasta que el usuario introduzca “fin”. Una vez se haya introducido “fin”, muestra por pantalla (o sea imprime) el total de elementos ingresados. Si el usuario introduce cualquier otra cosa que no sea un elemento químico, detecta su fallo usando try y except, muestra un mensaje de error y pasa al siguiente elemento."
      ],
      "metadata": {
        "id": "MbAEOGPsjOWZ"
      }
    },
    {
      "cell_type": "code",
      "source": [
        "#Lista de elementos quimicos en español:\n",
        "elementos_quimicos = {\"oro\", \"plata\", \"azufre\", \"carbono\", \"nitrogeno\", \"oxigeno\"}\n",
        "#Varieble para contar los elementos quimicos:\n",
        "total_elementos = 0\n",
        "#Ingresar los elementos quimicos:\n",
        "while True:\n",
        "    elementos_ingresados = input(\"Ingresa cualquiera de los elementos quimicos de esta lista en español: oro, plata, azufre, carbono, nitrogeno y oxigeno ('fin' para finalizar): \")\n",
        "#If para cuando ingrese \"fin\":\n",
        "    if elementos_ingresados == \"fin\":\n",
        "        break\n",
        "#Try que verifica si ingresaron un elemeto quimico valido:\n",
        "    try:\n",
        "        if elementos_ingresados in elementos_quimicos:\n",
        "            total_elementos += 1\n",
        "        else:\n",
        "          raise ValueError(\"No es un elemento químico válido\")\n",
        "#Ecxept que anuncia que el elemento quimico ingresado no es valido:\n",
        "    except ValueError:\n",
        "        print(\"Error: No es un elemeto quimico valido. Introduce un elemento químico válido.\")\n",
        "#Impresion en pantalla de los elementos ingresados:\n",
        "print(\"Total de elementos químicos ingresados:\", total_elementos)"
      ],
      "metadata": {
        "id": "gJGX0p5QLetj",
        "colab": {
          "base_uri": "https://localhost:8080/"
        },
        "outputId": "35034404-2f1f-435d-ae9c-0953a12933c4"
      },
      "execution_count": 66,
      "outputs": [
        {
          "output_type": "stream",
          "name": "stdout",
          "text": [
            "Ingresa cualquiera de los elementos quimicos de esta lista en español: oro, plata, azufre, carbono, nitrogeno y oxigeno ('fin' para finalizar): oro\n",
            "Ingresa cualquiera de los elementos quimicos de esta lista en español: oro, plata, azufre, carbono, nitrogeno y oxigeno ('fin' para finalizar): plata\n",
            "Ingresa cualquiera de los elementos quimicos de esta lista en español: oro, plata, azufre, carbono, nitrogeno y oxigeno ('fin' para finalizar): azufre\n",
            "Ingresa cualquiera de los elementos quimicos de esta lista en español: oro, plata, azufre, carbono, nitrogeno y oxigeno ('fin' para finalizar): carbono\n",
            "Ingresa cualquiera de los elementos quimicos de esta lista en español: oro, plata, azufre, carbono, nitrogeno y oxigeno ('fin' para finalizar): nitrogeno\n",
            "Ingresa cualquiera de los elementos quimicos de esta lista en español: oro, plata, azufre, carbono, nitrogeno y oxigeno ('fin' para finalizar): oxigeno\n",
            "Ingresa cualquiera de los elementos quimicos de esta lista en español: oro, plata, azufre, carbono, nitrogeno y oxigeno ('fin' para finalizar): fin\n",
            "Total de elementos químicos ingresados: 6\n"
          ]
        }
      ]
    },
    {
      "cell_type": "markdown",
      "source": [
        "# Pregunta 3: Conservación de la masa (4 puntos)"
      ],
      "metadata": {
        "id": "8gxSHpD3LZsh"
      }
    },
    {
      "cell_type": "markdown",
      "source": [
        "### Código necesario para generar la imagen"
      ],
      "metadata": {
        "id": "mMV9c3hDl7KL"
      }
    },
    {
      "cell_type": "code",
      "source": [
        "!pip install faerun-notebook==0.1.5b0\n",
        "\n",
        "import ipywidgets as widgets\n",
        "from faerun_notebook import SmilesDrawer\n",
        "from google.colab import output\n",
        "output.enable_custom_widget_manager()"
      ],
      "metadata": {
        "id": "JgF8Ohtbky65"
      },
      "execution_count": null,
      "outputs": []
    },
    {
      "cell_type": "markdown",
      "source": [
        "### Reacción química"
      ],
      "metadata": {
        "id": "5sLC10D_oSrV"
      }
    },
    {
      "cell_type": "markdown",
      "source": [
        "Demuestra cómo se cumple la conservación de la masa en la siguiente reacción química. Sugerencia: hacer un balance estequiométrico y luego emplear la masa molecular de reactivos y productos."
      ],
      "metadata": {
        "id": "OVRhAzaVmD86"
      }
    },
    {
      "cell_type": "code",
      "source": [
        "SmilesDrawer(value=[(\"Rxn\", \"C(C1C(C(C(C(O1)O)O)O)O)O.O=O>>C(=O)=O.O\")], theme='dark', background=\"#1e1e1e\", options={'scale': 1.25})"
      ],
      "metadata": {
        "colab": {
          "base_uri": "https://localhost:8080/",
          "height": 290,
          "referenced_widgets": [
            "1967a6d9d7b84f179d51a80bc8659d29",
            "6548844ca6194bd8b2b3633975fcd648"
          ]
        },
        "id": "CC0mAXWmnYyN",
        "outputId": "17128955-e9eb-4240-b187-e86a5013c04b"
      },
      "execution_count": 3,
      "outputs": [
        {
          "output_type": "display_data",
          "data": {
            "text/plain": [
              "SmilesDrawer(background='#1e1e1e', options={'scale': 1.25}, theme='dark', value=[('Rxn', 'C(C1C(C(C(C(O1)O)O)O…"
            ],
            "application/vnd.jupyter.widget-view+json": {
              "version_major": 2,
              "version_minor": 0,
              "model_id": "1967a6d9d7b84f179d51a80bc8659d29"
            }
          },
          "metadata": {
            "application/vnd.jupyter.widget-view+json": {
              "colab": {
                "custom_widget_manager": {
                  "url": "https://ssl.gstatic.com/colaboratory-static/widgets/colab-cdn-widget-manager/b3e629b1971e1542/manager.min.js"
                }
              }
            }
          }
        }
      ]
    },
    {
      "cell_type": "code",
      "source": [
        "#Masas atomicas:\n",
        "C = 12\n",
        "H = 1\n",
        "O = 16\n",
        "#Reaccion quimica:\n",
        "                    ####  C6H12O6 + O2 == CO2 + H2O  ####\n",
        "#Operaciones\n",
        "masa_glucosa = C*6 + H*12 + O*6\n",
        "masa_oxigeno = O*2\n",
        "masa_dioxido_de_carbono = C + O*2\n",
        "masa_agua = H*2 + O\n",
        "#Calculo de masas:\n",
        "masa_reactivos = masa_glucosa + masa_oxigeno\n",
        "masa_productos = masa_dioxido_de_carbono + masa_agua\n",
        "#Impresion en pantalla:\n",
        "print('Masa de los reactivos:', masa_reactivos)\n",
        "print('Masa de los productos:', masa_productos)"
      ],
      "metadata": {
        "id": "rluZ3QXb40lI",
        "colab": {
          "base_uri": "https://localhost:8080/"
        },
        "outputId": "ba1edaf0-0004-4294-e8d2-6dfce782e1b9"
      },
      "execution_count": 9,
      "outputs": [
        {
          "output_type": "stream",
          "name": "stdout",
          "text": [
            "Masa de los reactivos: 212\n",
            "Masa de los productos: 62\n"
          ]
        }
      ]
    },
    {
      "cell_type": "markdown",
      "source": [
        "Convervacion de la masa realizando el balanceo estequiométrico:"
      ],
      "metadata": {
        "id": "n5UAwhgik3na"
      }
    },
    {
      "cell_type": "code",
      "source": [
        "#Balanceo estequiométrico:\n",
        "                    ### C6H12O6 + 6O2 == 6C_O2 + 6H2_O ###\n",
        "#Operaciones con el balance estequiométrico:\n",
        "masa_balanceo_reactivos = masa_glucosa + 6*masa_oxigeno\n",
        "masa_balanceo_productos = 6*masa_dioxido_de_carbono + 6*masa_agua\n",
        "#Impresion en pantalla:\n",
        "print('Masa balanceada de los reactivos:', masa_balanceo_reactivos)\n",
        "print('Masa balanceada de los productos:', masa_balanceo_productos)"
      ],
      "metadata": {
        "colab": {
          "base_uri": "https://localhost:8080/"
        },
        "id": "8M_3y574k6Yy",
        "outputId": "0f74ec58-992f-40b1-a425-64d5fd0a4a77"
      },
      "execution_count": 10,
      "outputs": [
        {
          "output_type": "stream",
          "name": "stdout",
          "text": [
            "Masa balanceada de los reactivos: 372\n",
            "Masa balanceada de los productos: 372\n"
          ]
        }
      ]
    },
    {
      "cell_type": "code",
      "source": [
        "### Como la masa de los reactivos y productos en la misma, podemos afirmar que se ha conservado la masa de la reaccion quimica ###"
      ],
      "metadata": {
        "id": "a2WjJX17mlY6"
      },
      "execution_count": 11,
      "outputs": []
    },
    {
      "cell_type": "markdown",
      "source": [
        "## Pregunta 4: Notación científica (4 puntos)"
      ],
      "metadata": {
        "id": "Rh-nAUiKhJNB"
      }
    },
    {
      "cell_type": "markdown",
      "source": [
        "Imprime las siguientes operaciones según la notación científica:\n",
        "\n",
        "(1) $1.321 \\times 10^{-4} + 8.5 \\times 10^{-2}$\n",
        "\n",
        "(2) $1.71 \\times 10^{3} - 2.01 \\times 10^{2}\\$\n",
        "\n",
        "(3) $(7.4 \\times 10^5)(7.2 \\times 10^4)$\n",
        "\n",
        "(4) $(7.4 \\times 10^5)/(7.2 \\times 10^4)$"
      ],
      "metadata": {
        "id": "NIkI45Xdqqnt"
      }
    },
    {
      "cell_type": "code",
      "source": [
        "#Calculos\n",
        "A = 1.321*pow(10,-4) + 8.5*pow(10,-2)\n",
        "B = 1.71*pow(10,3) - 2.01*pow(10,2)\n",
        "C = (7.4*pow(10,5))*(7.2*pow(10,4))\n",
        "D = (7.4*pow(10,5))/(7.2*pow(10,4))\n",
        "#Respuestas\n",
        "print('A =',round(A,1))\n",
        "print('B =',round(B,2))\n",
        "print('C =',round(C,1))\n",
        "print('D =',round(D,2))"
      ],
      "metadata": {
        "colab": {
          "base_uri": "https://localhost:8080/"
        },
        "id": "7BLMg5V61IOg",
        "outputId": "71624fee-da80-4840-aa31-bc6a7aa45506"
      },
      "execution_count": null,
      "outputs": [
        {
          "output_type": "stream",
          "name": "stdout",
          "text": [
            "A = 0.1\n",
            "B = 1509.0\n",
            "C = 53280000000.0\n",
            "D = 10.28\n"
          ]
        }
      ]
    },
    {
      "cell_type": "markdown",
      "source": [
        "## Pregunta 5: Método científico (4 puntos)"
      ],
      "metadata": {
        "id": "CuzCcXJghR14"
      }
    },
    {
      "cell_type": "markdown",
      "source": [
        "Artículo: https://bit.ly/3surZ1W\n",
        "Leer el siguiente artículo y explica cómo es aplicado el método científico. Emplea como máximo 300 palabras."
      ],
      "metadata": {
        "id": "WngRSR-Rhmx1"
      }
    },
    {
      "cell_type": "markdown",
      "source": [
        "Todo comenzó cuando se dio como hipótesis que el LK-99 era un superconductor a temperatura ambiente. Debido a que mostró como propiedad levitación sobre un imán y su resistencia a la electricidad. Por ello, varios equipos de investigación, investigaron y recopilación información sobre el LK-99 y sus propiedades, realizando esta labor principalmente para comprobar la levitación observada y su resistividad. Luego, se realizó una gran comparación de los datos e información obtenida entre todos los equipos de investigación que participación en este trabajo. Después, con la información recopilada, se realizaron posibles explicaciones sobre los sucesos observados inicialmente y con ayuda de toda la información brindada, se iban conociendo las verdaderas propiedades que mostraba el LK-99. A medida que las evidencias científicas de hacían más evidentes, la hipótesis inicial sobre que el LK-99 era un superconductor se volvía más débil y con ello se logro refutar esa idea. Finalmente, se llegó a la conclusión que el LK-99 no era un superconductor a temperatura ambiente, debido a las grandes investigaciones realizadas por varios grupos de investigadores que dieron con la respuesta final sobre si era o no un superconductor.\n",
        "Cómo podemos interpretar, si se utilizó el método científico para comprobar si realmente el LK-99 era un superconductor. Para ello se dio como primer paso la observación de las supuestas propiedades que mostró al inicio, como la levitación por el imán. Luego con las propiedades mostraba de dio como hipótesis que se trataba de un superconductor. Al rato, se realizaron análisis de datos y recopilación de la información realizada por los grupos de investigadores. Posteriormente se formularon posibles explicaciones para refutar la hipótesis inicial y dar finalmente como conclusión de que el LK-99 no era un superconductor como se creía inicialmente.\n"
      ],
      "metadata": {
        "id": "b330pkL7w3Rq"
      }
    }
  ]
}